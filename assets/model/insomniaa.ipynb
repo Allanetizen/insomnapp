{
  "nbformat": 4,
  "nbformat_minor": 0,
  "metadata": {
    "colab": {
      "name": "insomniaa.ipynb",
      "provenance": []
    },
    "kernelspec": {
      "name": "python3",
      "display_name": "Python 3"
    },
    "language_info": {
      "name": "python"
    }
  },
  "cells": [
    {
      "cell_type": "code",
      "metadata": {
        "id": "IxLVckhYRO0B"
      },
      "source": [
        "# Import needed libraries\n",
        "\n",
        "import pandas as pd\n",
        "import numpy as np\n",
        "import matplotlib.pyplot as plt\n",
        "%matplotlib inline\n",
        "import seaborn as sns\n",
        "import re\n",
        "\n",
        "from sklearn.svm import SVC\n",
        "from sklearn.tree import DecisionTreeClassifier\n",
        "from sklearn.ensemble import RandomForestClassifier, AdaBoostClassifier, GradientBoostingClassifier\n",
        "from sklearn.model_selection import train_test_split, GridSearchCV\n",
        "from sklearn.metrics import accuracy_score, confusion_matrix, classification_report, make_scorer\n",
        "\n",
        "from plotly.offline import iplot\n",
        "import plotly as py\n",
        "import plotly.tools as tls\n",
        "\n",
        "import pickle"
      ],
      "execution_count": 1,
      "outputs": []
    },
    {
      "cell_type": "code",
      "metadata": {
        "colab": {
          "base_uri": "https://localhost:8080/",
          "height": 432
        },
        "id": "1BCJcaNhR3E3",
        "outputId": "0fbe0501-8c2b-49b4-a15f-d5b57b10d41a"
      },
      "source": [
        "df = pd.read_csv('/content/insomniaa.csv')\n",
        "df.head(30)"
      ],
      "execution_count": 3,
      "outputs": [
        {
          "output_type": "execute_result",
          "data": {
            "text/html": [
              "<div>\n",
              "<style scoped>\n",
              "    .dataframe tbody tr th:only-of-type {\n",
              "        vertical-align: middle;\n",
              "    }\n",
              "\n",
              "    .dataframe tbody tr th {\n",
              "        vertical-align: top;\n",
              "    }\n",
              "\n",
              "    .dataframe thead th {\n",
              "        text-align: right;\n",
              "    }\n",
              "</style>\n",
              "<table border=\"1\" class=\"dataframe\">\n",
              "  <thead>\n",
              "    <tr style=\"text-align: right;\">\n",
              "      <th></th>\n",
              "      <th>alcohol</th>\n",
              "      <th>coffee</th>\n",
              "      <th>stress</th>\n",
              "      <th>age</th>\n",
              "      <th>sleep_pills</th>\n",
              "      <th>sleep_hrs</th>\n",
              "      <th>insomnia</th>\n",
              "    </tr>\n",
              "  </thead>\n",
              "  <tbody>\n",
              "    <tr>\n",
              "      <th>0</th>\n",
              "      <td>1</td>\n",
              "      <td>1</td>\n",
              "      <td>1</td>\n",
              "      <td>60</td>\n",
              "      <td>1</td>\n",
              "      <td>1</td>\n",
              "      <td>1</td>\n",
              "    </tr>\n",
              "    <tr>\n",
              "      <th>1</th>\n",
              "      <td>1</td>\n",
              "      <td>1</td>\n",
              "      <td>0</td>\n",
              "      <td>40</td>\n",
              "      <td>0</td>\n",
              "      <td>2</td>\n",
              "      <td>1</td>\n",
              "    </tr>\n",
              "    <tr>\n",
              "      <th>2</th>\n",
              "      <td>0</td>\n",
              "      <td>1</td>\n",
              "      <td>1</td>\n",
              "      <td>80</td>\n",
              "      <td>1</td>\n",
              "      <td>3</td>\n",
              "      <td>1</td>\n",
              "    </tr>\n",
              "    <tr>\n",
              "      <th>3</th>\n",
              "      <td>0</td>\n",
              "      <td>0</td>\n",
              "      <td>1</td>\n",
              "      <td>50</td>\n",
              "      <td>1</td>\n",
              "      <td>4</td>\n",
              "      <td>1</td>\n",
              "    </tr>\n",
              "    <tr>\n",
              "      <th>4</th>\n",
              "      <td>1</td>\n",
              "      <td>0</td>\n",
              "      <td>1</td>\n",
              "      <td>40</td>\n",
              "      <td>1</td>\n",
              "      <td>5</td>\n",
              "      <td>1</td>\n",
              "    </tr>\n",
              "    <tr>\n",
              "      <th>5</th>\n",
              "      <td>1</td>\n",
              "      <td>1</td>\n",
              "      <td>0</td>\n",
              "      <td>30</td>\n",
              "      <td>0</td>\n",
              "      <td>6</td>\n",
              "      <td>1</td>\n",
              "    </tr>\n",
              "    <tr>\n",
              "      <th>6</th>\n",
              "      <td>1</td>\n",
              "      <td>0</td>\n",
              "      <td>0</td>\n",
              "      <td>30</td>\n",
              "      <td>0</td>\n",
              "      <td>7</td>\n",
              "      <td>1</td>\n",
              "    </tr>\n",
              "    <tr>\n",
              "      <th>7</th>\n",
              "      <td>0</td>\n",
              "      <td>0</td>\n",
              "      <td>0</td>\n",
              "      <td>20</td>\n",
              "      <td>0</td>\n",
              "      <td>8</td>\n",
              "      <td>0</td>\n",
              "    </tr>\n",
              "    <tr>\n",
              "      <th>8</th>\n",
              "      <td>0</td>\n",
              "      <td>0</td>\n",
              "      <td>1</td>\n",
              "      <td>10</td>\n",
              "      <td>0</td>\n",
              "      <td>8</td>\n",
              "      <td>0</td>\n",
              "    </tr>\n",
              "    <tr>\n",
              "      <th>9</th>\n",
              "      <td>1</td>\n",
              "      <td>0</td>\n",
              "      <td>1</td>\n",
              "      <td>20</td>\n",
              "      <td>0</td>\n",
              "      <td>6</td>\n",
              "      <td>1</td>\n",
              "    </tr>\n",
              "    <tr>\n",
              "      <th>10</th>\n",
              "      <td>0</td>\n",
              "      <td>1</td>\n",
              "      <td>0</td>\n",
              "      <td>30</td>\n",
              "      <td>0</td>\n",
              "      <td>6</td>\n",
              "      <td>1</td>\n",
              "    </tr>\n",
              "    <tr>\n",
              "      <th>11</th>\n",
              "      <td>1</td>\n",
              "      <td>1</td>\n",
              "      <td>0</td>\n",
              "      <td>40</td>\n",
              "      <td>0</td>\n",
              "      <td>7</td>\n",
              "      <td>1</td>\n",
              "    </tr>\n",
              "    <tr>\n",
              "      <th>12</th>\n",
              "      <td>0</td>\n",
              "      <td>1</td>\n",
              "      <td>0</td>\n",
              "      <td>30</td>\n",
              "      <td>0</td>\n",
              "      <td>7</td>\n",
              "      <td>0</td>\n",
              "    </tr>\n",
              "  </tbody>\n",
              "</table>\n",
              "</div>"
            ],
            "text/plain": [
              "    alcohol  coffee  stress  age  sleep_pills  sleep_hrs  insomnia\n",
              "0         1       1       1   60            1          1         1\n",
              "1         1       1       0   40            0          2         1\n",
              "2         0       1       1   80            1          3         1\n",
              "3         0       0       1   50            1          4         1\n",
              "4         1       0       1   40            1          5         1\n",
              "5         1       1       0   30            0          6         1\n",
              "6         1       0       0   30            0          7         1\n",
              "7         0       0       0   20            0          8         0\n",
              "8         0       0       1   10            0          8         0\n",
              "9         1       0       1   20            0          6         1\n",
              "10        0       1       0   30            0          6         1\n",
              "11        1       1       0   40            0          7         1\n",
              "12        0       1       0   30            0          7         0"
            ]
          },
          "metadata": {
            "tags": []
          },
          "execution_count": 3
        }
      ]
    },
    {
      "cell_type": "code",
      "metadata": {
        "colab": {
          "base_uri": "https://localhost:8080/"
        },
        "id": "u8sYerwXSNk2",
        "outputId": "3e81a296-626d-4399-aca3-009334a9880a"
      },
      "source": [
        "df.shape"
      ],
      "execution_count": 4,
      "outputs": [
        {
          "output_type": "execute_result",
          "data": {
            "text/plain": [
              "(13, 7)"
            ]
          },
          "metadata": {
            "tags": []
          },
          "execution_count": 4
        }
      ]
    },
    {
      "cell_type": "code",
      "metadata": {
        "colab": {
          "base_uri": "https://localhost:8080/"
        },
        "id": "1_qLqR9BSULG",
        "outputId": "0282252c-810e-4b91-ece7-b5a978df2d46"
      },
      "source": [
        "df.info()"
      ],
      "execution_count": 5,
      "outputs": [
        {
          "output_type": "stream",
          "text": [
            "<class 'pandas.core.frame.DataFrame'>\n",
            "RangeIndex: 13 entries, 0 to 12\n",
            "Data columns (total 7 columns):\n",
            " #   Column       Non-Null Count  Dtype\n",
            "---  ------       --------------  -----\n",
            " 0   alcohol      13 non-null     int64\n",
            " 1   coffee       13 non-null     int64\n",
            " 2   stress       13 non-null     int64\n",
            " 3   age          13 non-null     int64\n",
            " 4   sleep_pills  13 non-null     int64\n",
            " 5   sleep_hrs    13 non-null     int64\n",
            " 6   insomnia     13 non-null     int64\n",
            "dtypes: int64(7)\n",
            "memory usage: 856.0 bytes\n"
          ],
          "name": "stdout"
        }
      ]
    },
    {
      "cell_type": "code",
      "metadata": {
        "colab": {
          "base_uri": "https://localhost:8080/",
          "height": 284
        },
        "id": "-ndXxwZaSZeO",
        "outputId": "00c42e07-7c2c-47c4-b801-17159e18d279"
      },
      "source": [
        "df.describe()"
      ],
      "execution_count": 6,
      "outputs": [
        {
          "output_type": "execute_result",
          "data": {
            "text/html": [
              "<div>\n",
              "<style scoped>\n",
              "    .dataframe tbody tr th:only-of-type {\n",
              "        vertical-align: middle;\n",
              "    }\n",
              "\n",
              "    .dataframe tbody tr th {\n",
              "        vertical-align: top;\n",
              "    }\n",
              "\n",
              "    .dataframe thead th {\n",
              "        text-align: right;\n",
              "    }\n",
              "</style>\n",
              "<table border=\"1\" class=\"dataframe\">\n",
              "  <thead>\n",
              "    <tr style=\"text-align: right;\">\n",
              "      <th></th>\n",
              "      <th>alcohol</th>\n",
              "      <th>coffee</th>\n",
              "      <th>stress</th>\n",
              "      <th>age</th>\n",
              "      <th>sleep_pills</th>\n",
              "      <th>sleep_hrs</th>\n",
              "      <th>insomnia</th>\n",
              "    </tr>\n",
              "  </thead>\n",
              "  <tbody>\n",
              "    <tr>\n",
              "      <th>count</th>\n",
              "      <td>13.000000</td>\n",
              "      <td>13.000000</td>\n",
              "      <td>13.000000</td>\n",
              "      <td>13.000000</td>\n",
              "      <td>13.000000</td>\n",
              "      <td>13.000000</td>\n",
              "      <td>13.000000</td>\n",
              "    </tr>\n",
              "    <tr>\n",
              "      <th>mean</th>\n",
              "      <td>0.538462</td>\n",
              "      <td>0.538462</td>\n",
              "      <td>0.461538</td>\n",
              "      <td>36.923077</td>\n",
              "      <td>0.307692</td>\n",
              "      <td>5.384615</td>\n",
              "      <td>0.769231</td>\n",
              "    </tr>\n",
              "    <tr>\n",
              "      <th>std</th>\n",
              "      <td>0.518875</td>\n",
              "      <td>0.518875</td>\n",
              "      <td>0.518875</td>\n",
              "      <td>18.432135</td>\n",
              "      <td>0.480384</td>\n",
              "      <td>2.256046</td>\n",
              "      <td>0.438529</td>\n",
              "    </tr>\n",
              "    <tr>\n",
              "      <th>min</th>\n",
              "      <td>0.000000</td>\n",
              "      <td>0.000000</td>\n",
              "      <td>0.000000</td>\n",
              "      <td>10.000000</td>\n",
              "      <td>0.000000</td>\n",
              "      <td>1.000000</td>\n",
              "      <td>0.000000</td>\n",
              "    </tr>\n",
              "    <tr>\n",
              "      <th>25%</th>\n",
              "      <td>0.000000</td>\n",
              "      <td>0.000000</td>\n",
              "      <td>0.000000</td>\n",
              "      <td>30.000000</td>\n",
              "      <td>0.000000</td>\n",
              "      <td>4.000000</td>\n",
              "      <td>1.000000</td>\n",
              "    </tr>\n",
              "    <tr>\n",
              "      <th>50%</th>\n",
              "      <td>1.000000</td>\n",
              "      <td>1.000000</td>\n",
              "      <td>0.000000</td>\n",
              "      <td>30.000000</td>\n",
              "      <td>0.000000</td>\n",
              "      <td>6.000000</td>\n",
              "      <td>1.000000</td>\n",
              "    </tr>\n",
              "    <tr>\n",
              "      <th>75%</th>\n",
              "      <td>1.000000</td>\n",
              "      <td>1.000000</td>\n",
              "      <td>1.000000</td>\n",
              "      <td>40.000000</td>\n",
              "      <td>1.000000</td>\n",
              "      <td>7.000000</td>\n",
              "      <td>1.000000</td>\n",
              "    </tr>\n",
              "    <tr>\n",
              "      <th>max</th>\n",
              "      <td>1.000000</td>\n",
              "      <td>1.000000</td>\n",
              "      <td>1.000000</td>\n",
              "      <td>80.000000</td>\n",
              "      <td>1.000000</td>\n",
              "      <td>8.000000</td>\n",
              "      <td>1.000000</td>\n",
              "    </tr>\n",
              "  </tbody>\n",
              "</table>\n",
              "</div>"
            ],
            "text/plain": [
              "         alcohol     coffee     stress  ...  sleep_pills  sleep_hrs   insomnia\n",
              "count  13.000000  13.000000  13.000000  ...    13.000000  13.000000  13.000000\n",
              "mean    0.538462   0.538462   0.461538  ...     0.307692   5.384615   0.769231\n",
              "std     0.518875   0.518875   0.518875  ...     0.480384   2.256046   0.438529\n",
              "min     0.000000   0.000000   0.000000  ...     0.000000   1.000000   0.000000\n",
              "25%     0.000000   0.000000   0.000000  ...     0.000000   4.000000   1.000000\n",
              "50%     1.000000   1.000000   0.000000  ...     0.000000   6.000000   1.000000\n",
              "75%     1.000000   1.000000   1.000000  ...     1.000000   7.000000   1.000000\n",
              "max     1.000000   1.000000   1.000000  ...     1.000000   8.000000   1.000000\n",
              "\n",
              "[8 rows x 7 columns]"
            ]
          },
          "metadata": {
            "tags": []
          },
          "execution_count": 6
        }
      ]
    },
    {
      "cell_type": "code",
      "metadata": {
        "colab": {
          "base_uri": "https://localhost:8080/"
        },
        "id": "MTRTJ1f6SiA7",
        "outputId": "e815d7d1-0044-4123-cd41-6c8ff06865f3"
      },
      "source": [
        "df.isnull().sum()"
      ],
      "execution_count": 7,
      "outputs": [
        {
          "output_type": "execute_result",
          "data": {
            "text/plain": [
              "alcohol        0\n",
              "coffee         0\n",
              "stress         0\n",
              "age            0\n",
              "sleep_pills    0\n",
              "sleep_hrs      0\n",
              "insomnia       0\n",
              "dtype: int64"
            ]
          },
          "metadata": {
            "tags": []
          },
          "execution_count": 7
        }
      ]
    },
    {
      "cell_type": "code",
      "metadata": {
        "colab": {
          "base_uri": "https://localhost:8080/"
        },
        "id": "C1g4KtmNSvGF",
        "outputId": "640f8265-0cf5-4d68-fa25-5196ed2f2bf3"
      },
      "source": [
        "df['insomnia'].value_counts()"
      ],
      "execution_count": 8,
      "outputs": [
        {
          "output_type": "execute_result",
          "data": {
            "text/plain": [
              "1    10\n",
              "0     3\n",
              "Name: insomnia, dtype: int64"
            ]
          },
          "metadata": {
            "tags": []
          },
          "execution_count": 8
        }
      ]
    },
    {
      "cell_type": "code",
      "metadata": {
        "colab": {
          "base_uri": "https://localhost:8080/"
        },
        "id": "wzUpjWV1S9cj",
        "outputId": "186d2413-87d8-4d5c-b8c1-6e62d56f14f9"
      },
      "source": [
        "df['insomnia'].value_counts()/df.shape[0]*100"
      ],
      "execution_count": 9,
      "outputs": [
        {
          "output_type": "execute_result",
          "data": {
            "text/plain": [
              "1    76.923077\n",
              "0    23.076923\n",
              "Name: insomnia, dtype: float64"
            ]
          },
          "metadata": {
            "tags": []
          },
          "execution_count": 9
        }
      ]
    },
    {
      "cell_type": "code",
      "metadata": {
        "colab": {
          "base_uri": "https://localhost:8080/",
          "height": 264
        },
        "id": "3ZJnOl0UTISQ",
        "outputId": "81a09222-35f9-4534-a0ea-595258d43c66"
      },
      "source": [
        "labels = ['yes', 'No']\n",
        "values = df['insomnia'].value_counts().values\n",
        "\n",
        "plt.pie(values, labels=labels, autopct='%1.0f%%')\n",
        "plt.title('INSOMNIA')\n",
        "plt.show()"
      ],
      "execution_count": 10,
      "outputs": [
        {
          "output_type": "display_data",
          "data": {
            "image/png": "[encoded data removed]",
            "text/plain": [
              "<Figure size 432x288 with 1 Axes>"
            ]
          },
          "metadata": {
            "tags": []
          }
        }
      ]
    },
    {
      "cell_type": "code",
      "metadata": {
        "colab": {
          "base_uri": "https://localhost:8080/",
          "height": 868
        },
        "id": "YOrRU6nPTOb8",
        "outputId": "375b152f-1908-4695-80c1-a89b1b19f18e"
      },
      "source": [
        "plt.figure(figsize=(15, 15))\n",
        "sns.heatmap(df.corr(), annot = True, cmap = \"Blues\")\n",
        "plt.show()"
      ],
      "execution_count": 11,
      "outputs": [
        {
          "output_type": "display_data",
          "data": {
            "image/png": "[encoded data removed]",
            "text/plain": [
              "<Figure size 1080x1080 with 2 Axes>"
            ]
          },
          "metadata": {
            "tags": [],
            "needs_background": "light"
          }
        }
      ]
    },
    {
      "cell_type": "code",
      "metadata": {
        "colab": {
          "base_uri": "https://localhost:8080/",
          "height": 281
        },
        "id": "AVcdb8iCTSfN",
        "outputId": "a6cc3f04-96ac-4c7b-8442-32771946e5ed"
      },
      "source": [
        "df['age'].plot(kind = 'hist', title = 'Age Distribution')\n",
        "plt.show()"
      ],
      "execution_count": 12,
      "outputs": [
        {
          "output_type": "display_data",
          "data": {
            "image/png": "[encoded data removed]",
            "text/plain": [
              "<Figure size 432x288 with 1 Axes>"
            ]
          },
          "metadata": {
            "tags": [],
            "needs_background": "light"
          }
        }
      ]
    },
    {
      "cell_type": "code",
      "metadata": {
        "colab": {
          "base_uri": "https://localhost:8080/"
        },
        "id": "-B8kruGlThXy",
        "outputId": "f96c0866-1be3-4e40-bd76-a2133f56dc8c"
      },
      "source": [
        "print('Min age: ', min(df['age']))\n",
        "print('Max age: ', max(df['age']))\n",
        "print('Average age: ', df['age'].mean())"
      ],
      "execution_count": 13,
      "outputs": [
        {
          "output_type": "stream",
          "text": [
            "Min age:  10\n",
            "Max age:  80\n",
            "Average age:  36.92307692307692\n"
          ],
          "name": "stdout"
        }
      ]
    },
    {
      "cell_type": "code",
      "metadata": {
        "colab": {
          "base_uri": "https://localhost:8080/",
          "height": 651
        },
        "id": "T3BegNaUTnXw",
        "outputId": "e98a10fa-1eeb-41be-9edf-d2c31468eac0"
      },
      "source": [
        "# Display age distribution based on insomnia\n",
        "sns.distplot(df[df['insomnia'] == 1]['age'], label='Do not have insomnia')\n",
        "sns.distplot(df[df['insomnia'] == 2]['age'], label = 'Have insomnia')\n",
        "plt.xlabel('Frequency')\n",
        "plt.ylabel('Age')\n",
        "plt.title('Age Distribution based insomnia')\n",
        "plt.legend()\n",
        "plt.show()"
      ],
      "execution_count": 16,
      "outputs": [
        {
          "output_type": "stream",
          "text": [
            "/usr/local/lib/python3.7/dist-packages/seaborn/distributions.py:2557: FutureWarning:\n",
            "\n",
            "`distplot` is a deprecated function and will be removed in a future version. Please adapt your code to use either `displot` (a figure-level function with similar flexibility) or `histplot` (an axes-level function for histograms).\n",
            "\n",
            "/usr/local/lib/python3.7/dist-packages/seaborn/distributions.py:2557: FutureWarning:\n",
            "\n",
            "`distplot` is a deprecated function and will be removed in a future version. Please adapt your code to use either `displot` (a figure-level function with similar flexibility) or `histplot` (an axes-level function for histograms).\n",
            "\n",
            "/usr/local/lib/python3.7/dist-packages/seaborn/distributions.py:2595: RuntimeWarning:\n",
            "\n",
            "Mean of empty slice.\n",
            "\n",
            "/usr/local/lib/python3.7/dist-packages/numpy/core/_methods.py:170: RuntimeWarning:\n",
            "\n",
            "invalid value encountered in double_scalars\n",
            "\n",
            "/usr/local/lib/python3.7/dist-packages/numpy/lib/histograms.py:905: RuntimeWarning:\n",
            "\n",
            "invalid value encountered in true_divide\n",
            "\n"
          ],
          "name": "stderr"
        },
        {
          "output_type": "display_data",
          "data": {
            "image/png": "[encoded data removed]",
            "text/plain": [
              "<Figure size 432x288 with 1 Axes>"
            ]
          },
          "metadata": {
            "tags": [],
            "needs_background": "light"
          }
        }
      ]
    },
    {
      "cell_type": "code",
      "metadata": {
        "colab": {
          "base_uri": "https://localhost:8080/"
        },
        "id": "6JAk-ALqUPV5",
        "outputId": "0e6e7616-19a7-430c-93ae-6f6468abb233"
      },
      "source": [
        "# Get min, max and average of the age of the people do not have insomnia\n",
        "print('Min age of people who do not have insomnia: ', min(df[df['insomnia'] == 1]['age']))\n",
        "print('Max age of people who do not have insomnia: ', max(df[df['insomnia'] == 1]['age']))\n",
        "print('Average age of people who do not have insomnia: ', df[df['insomnia'] == 1]['age'].mean())"
      ],
      "execution_count": 17,
      "outputs": [
        {
          "output_type": "stream",
          "text": [
            "Min age of people who do not have insomnia:  20\n",
            "Max age of people who do not have insomnia:  80\n",
            "Average age of people who do not have insomnia:  42.0\n"
          ],
          "name": "stdout"
        }
      ]
    },
    {
      "cell_type": "code",
      "metadata": {
        "colab": {
          "base_uri": "https://localhost:8080/",
          "height": 390
        },
        "id": "ZMW1eLZSU9hW",
        "outputId": "e2e4585c-f8ff-4942-83a3-55106b114c47"
      },
      "source": [
        "df['coffee'].plot(kind = 'hist', title = 'coffee effects', figsize = (8, 6))\n",
        "plt.show()"
      ],
      "execution_count": 18,
      "outputs": [
        {
          "output_type": "display_data",
          "data": {
            "image/png": "[encoded data removed]",
            "text/plain": [
              "<Figure size 576x432 with 1 Axes>"
            ]
          },
          "metadata": {
            "tags": [],
            "needs_background": "light"
          }
        }
      ]
    },
    {
      "cell_type": "code",
      "metadata": {
        "colab": {
          "base_uri": "https://localhost:8080/",
          "height": 390
        },
        "id": "gt9oP-oBVTUk",
        "outputId": "83d2220d-0e1f-470a-fad3-37ddd8616ef4"
      },
      "source": [
        "df['sleep_hrs'].plot(kind = 'hist', title = 'Sleep hours', figsize = (8, 6))\n",
        "plt.show()"
      ],
      "execution_count": 19,
      "outputs": [
        {
          "output_type": "display_data",
          "data": {
            "image/png": "[encoded data removed]",
            "text/plain": [
              "<Figure size 576x432 with 1 Axes>"
            ]
          },
          "metadata": {
            "tags": [],
            "needs_background": "light"
          }
        }
      ]
    },
    {
      "cell_type": "code",
      "metadata": {
        "colab": {
          "base_uri": "https://localhost:8080/",
          "height": 390
        },
        "id": "WTS5ZAUFVinL",
        "outputId": "79af158b-634d-4473-bb72-6972376e18f0"
      },
      "source": [
        "df['sleep_pills'].plot(kind = 'hist', title = 'Sleep pills', figsize = (8, 6))\n",
        "plt.show()"
      ],
      "execution_count": 20,
      "outputs": [
        {
          "output_type": "display_data",
          "data": {
            "image/png": "[encoded data removed]",
            "text/plain": [
              "<Figure size 576x432 with 1 Axes>"
            ]
          },
          "metadata": {
            "tags": [],
            "needs_background": "light"
          }
        }
      ]
    },
    {
      "cell_type": "code",
      "metadata": {
        "id": "HHFOdW9kV-Me"
      },
      "source": [
        "target = df['insomnia']\n",
        "features = df.drop(['insomnia'], axis = 1)"
      ],
      "execution_count": 21,
      "outputs": []
    },
    {
      "cell_type": "code",
      "metadata": {
        "id": "glwMX5G-WHnb"
      },
      "source": [
        "# Split the data into training set and testing set\n",
        "X_train, X_test, y_train, y_test = train_test_split(features, target, test_size = 0.2, random_state = 0)"
      ],
      "execution_count": 22,
      "outputs": []
    },
    {
      "cell_type": "code",
      "metadata": {
        "id": "U68LOjdUWSQJ"
      },
      "source": [
        "# Train and evaluate model\n",
        "def fit_eval_model(model, train_features, y_train, test_features, y_test):\n",
        "    \n",
        "    \"\"\"\n",
        "    Function: train and evaluate a machine learning classifier.\n",
        "    Args:\n",
        "      model: machine learning classifier\n",
        "      train_features: train data extracted features\n",
        "      y_train: train data lables\n",
        "      test_features: train data extracted features\n",
        "      y_test: train data lables\n",
        "    Return:\n",
        "      results(dictionary): a dictionary of classification report\n",
        "    \"\"\"\n",
        "    results = {}\n",
        "    \n",
        "    # Train the model\n",
        "    model.fit(train_features, y_train)\n",
        "    \n",
        "    # Test the model\n",
        "    train_predicted = model.predict(train_features)\n",
        "    test_predicted = model.predict(test_features)\n",
        "    \n",
        "     # Classification report and Confusion Matrix\n",
        "    results['classification_report'] = classification_report(y_test, test_predicted)\n",
        "    results['confusion_matrix'] = confusion_matrix(y_test, test_predicted)\n",
        "        \n",
        "    return results"
      ],
      "execution_count": 23,
      "outputs": []
    },
    {
      "cell_type": "code",
      "metadata": {
        "colab": {
          "base_uri": "https://localhost:8080/"
        },
        "id": "3YIxfZITWarZ",
        "outputId": "dc157c1b-d8c2-4ade-db1e-9a5ea33f6715"
      },
      "source": [
        "sv = SVC(random_state = 1)\n",
        "rf = RandomForestClassifier(random_state = 1)\n",
        "ab = AdaBoostClassifier(random_state = 1)\n",
        "gb = GradientBoostingClassifier(random_state = 1)\n",
        "\n",
        "\n",
        "# Fit and evaluate models\n",
        "results = {}\n",
        "for cls in [sv, rf, ab, gb]:\n",
        "    cls_name = cls.__class__.__name__\n",
        "    results[cls_name] = {}\n",
        "    results[cls_name] = fit_eval_model(cls, X_train, y_train, X_test, y_test)"
      ],
      "execution_count": 24,
      "outputs": [
        {
          "output_type": "stream",
          "text": [
            "/usr/local/lib/python3.7/dist-packages/sklearn/metrics/_classification.py:1272: UndefinedMetricWarning:\n",
            "\n",
            "Recall and F-score are ill-defined and being set to 0.0 in labels with no true samples. Use `zero_division` parameter to control this behavior.\n",
            "\n",
            "/usr/local/lib/python3.7/dist-packages/sklearn/metrics/_classification.py:1272: UndefinedMetricWarning:\n",
            "\n",
            "Recall and F-score are ill-defined and being set to 0.0 in labels with no true samples. Use `zero_division` parameter to control this behavior.\n",
            "\n"
          ],
          "name": "stderr"
        }
      ]
    },
    {
      "cell_type": "code",
      "metadata": {
        "colab": {
          "base_uri": "https://localhost:8080/"
        },
        "id": "iuJDtajkXBWx",
        "outputId": "3bc56e1b-563a-485c-ea8f-2e6dd8bede52"
      },
      "source": [
        "# Print classifiers results\n",
        "for result in results:\n",
        "    print (result)\n",
        "    print()\n",
        "    for i in results[result]:\n",
        "        print (i, ':')\n",
        "        print(results[result][i])\n",
        "        print()\n",
        "    print ('-----')\n",
        "    print()"
      ],
      "execution_count": 25,
      "outputs": [
        {
          "output_type": "stream",
          "text": [
            "SVC\n",
            "\n",
            "classification_report :\n",
            "              precision    recall  f1-score   support\n",
            "\n",
            "           1       1.00      1.00      1.00         3\n",
            "\n",
            "    accuracy                           1.00         3\n",
            "   macro avg       1.00      1.00      1.00         3\n",
            "weighted avg       1.00      1.00      1.00         3\n",
            "\n",
            "\n",
            "confusion_matrix :\n",
            "[[3]]\n",
            "\n",
            "-----\n",
            "\n",
            "RandomForestClassifier\n",
            "\n",
            "classification_report :\n",
            "              precision    recall  f1-score   support\n",
            "\n",
            "           1       1.00      1.00      1.00         3\n",
            "\n",
            "    accuracy                           1.00         3\n",
            "   macro avg       1.00      1.00      1.00         3\n",
            "weighted avg       1.00      1.00      1.00         3\n",
            "\n",
            "\n",
            "confusion_matrix :\n",
            "[[3]]\n",
            "\n",
            "-----\n",
            "\n",
            "AdaBoostClassifier\n",
            "\n",
            "classification_report :\n",
            "              precision    recall  f1-score   support\n",
            "\n",
            "           0       0.00      0.00      0.00         0\n",
            "           1       1.00      0.33      0.50         3\n",
            "\n",
            "    accuracy                           0.33         3\n",
            "   macro avg       0.50      0.17      0.25         3\n",
            "weighted avg       1.00      0.33      0.50         3\n",
            "\n",
            "\n",
            "confusion_matrix :\n",
            "[[0 0]\n",
            " [2 1]]\n",
            "\n",
            "-----\n",
            "\n",
            "GradientBoostingClassifier\n",
            "\n",
            "classification_report :\n",
            "              precision    recall  f1-score   support\n",
            "\n",
            "           0       0.00      0.00      0.00         0\n",
            "           1       1.00      0.33      0.50         3\n",
            "\n",
            "    accuracy                           0.33         3\n",
            "   macro avg       0.50      0.17      0.25         3\n",
            "weighted avg       1.00      0.33      0.50         3\n",
            "\n",
            "\n",
            "confusion_matrix :\n",
            "[[0 0]\n",
            " [2 1]]\n",
            "\n",
            "-----\n",
            "\n"
          ],
          "name": "stdout"
        }
      ]
    },
    {
      "cell_type": "code",
      "metadata": {
        "colab": {
          "base_uri": "https://localhost:8080/",
          "height": 366
        },
        "id": "BjzSiT3mXa85",
        "outputId": "96da612b-07da-4e72-beb0-d5d4c9cb7b99"
      },
      "source": [
        "importance = rf.feature_importances_\n",
        "# summarize feature importance\n",
        "for i,v in enumerate(importance):\n",
        "    print('Feature: %s, Score: %.5f' % (features.columns[i], v))\n",
        "# plot feature importance\n",
        "plt.bar([x for x in range(len(importance))], importance)\n",
        "plt.show()"
      ],
      "execution_count": 34,
      "outputs": [
        {
          "output_type": "stream",
          "text": [
            "Feature: alcohol, Score: 0.11147\n",
            "Feature: coffee, Score: 0.03279\n",
            "Feature: stress, Score: 0.06259\n",
            "Feature: age, Score: 0.20501\n",
            "Feature: sleep_pills, Score: 0.03948\n",
            "Feature: sleep_hrs, Score: 0.54865\n"
          ],
          "name": "stdout"
        },
        {
          "output_type": "display_data",
          "data": {
            "image/png": "[encoded data removed]",
            "text/plain": [
              "<Figure size 432x288 with 1 Axes>"
            ]
          },
          "metadata": {
            "tags": [],
            "needs_background": "light"
          }
        }
      ]
    },
    {
      "cell_type": "code",
      "metadata": {
        "id": "bFCv1BA4XiBG"
      },
      "source": [
        "with open('model.pkl', 'wb') as file:\n",
        "    pickle.dump(rf, file)"
      ],
      "execution_count": 35,
      "outputs": []
    }
  ]
}